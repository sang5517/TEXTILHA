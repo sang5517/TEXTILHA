{
  "nbformat": 4,
  "nbformat_minor": 0,
  "metadata": {
    "colab": {
      "provenance": [],
      "include_colab_link": true
    },
    "kernelspec": {
      "name": "python3",
      "display_name": "Python 3"
    },
    "language_info": {
      "name": "python"
    }
  },
  "cells": [
    {
      "cell_type": "markdown",
      "metadata": {
        "id": "view-in-github",
        "colab_type": "text"
      },
      "source": [
        "<a href=\"https://colab.research.google.com/github/sang5517/TEXTILHA/blob/master/text__hwang_ilha.ipynb\" target=\"_parent\"><img src=\"https://colab.research.google.com/assets/colab-badge.svg\" alt=\"Open In Colab\"/></a>"
      ]
    },
    {
      "cell_type": "code",
      "execution_count": 14,
      "metadata": {
        "id": "JzvSTkxzCNn5"
      },
      "outputs": [],
      "source": [
        "import pandas as pd\n",
        "stu = pd.read_excel('/content/students.xlsx')"
      ]
    },
    {
      "cell_type": "code",
      "source": [
        "# 아래 문제를 해결해주세요.\n",
        "\n",
        "\n",
        "# 1. 국어가 80점 이상인 학생의 이름과 생년월일\n",
        "selected_students = stu[stu['국어'] >= 80]\n",
        "\n",
        "# 2. 수학이 80점 미만인 학생의 영어와 국어 점수\n",
        "selected_students = stu[stu['수학'] < 80]\n",
        "# 3. 국어와 수학이 90점 이상인 학생의 이름, 수학, 국어 점수\n",
        "selected_students = stu[(stu['국어'] >= 90) & (stu['수학'] >= 90)]\n",
        "\n",
        "# 4. 모든 과목이 60점 미만인 학생의 번호, 이름, 생년월일\n",
        "selected_students3 = stu[(stu['국어'] < 60) & (stu['영어'] < 60) & (stu['수학'] < 60)]\n",
        "\n",
        "# 5. 대전 지역 학생들의 이름, 국어, 영어, 수학 점수\n",
        "daejeon_students4 = stu[stu['지역명'] == '대전']"
      ],
      "metadata": {
        "id": "EJ8C5C1JC-kV"
      },
      "execution_count": 15,
      "outputs": []
    },
    {
      "cell_type": "markdown",
      "source": [],
      "metadata": {
        "id": "UzgtHCU3h10p"
      }
    },
    {
      "cell_type": "code",
      "source": [
        "# 아래 문제를 해결해주세요.\n",
        "\n",
        "\n",
        "# 1. 학생들의 총점, 평균 구하기\n",
        "stu['총점'] = stu['국어'] + stu['영어'] + stu['수학']\n",
        "stu['평균'] = stu[['국어', '영어', '수학']].mean(axis=1)\n",
        "\n",
        "# 2. 학생들의 평균이 높은 순으로 정렬. 만약 평균이 같다면 학번으로 오름차순\n",
        "sorted_students = stu.sort_values(by=['평균', '번호'], ascending=[False, True])"
      ],
      "metadata": {
        "id": "tHL-HbNWDIkQ"
      },
      "execution_count": 16,
      "outputs": []
    }
  ]
}